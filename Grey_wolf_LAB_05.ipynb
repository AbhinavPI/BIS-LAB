{
  "nbformat": 4,
  "nbformat_minor": 0,
  "metadata": {
    "colab": {
      "provenance": []
    },
    "kernelspec": {
      "name": "python3",
      "display_name": "Python 3"
    },
    "language_info": {
      "name": "python"
    }
  },
  "cells": [
    {
      "cell_type": "code",
      "execution_count": null,
      "metadata": {
        "id": "UDXH66g5I7vH"
      },
      "outputs": [],
      "source": [
        "import numpy as np\n",
        "\n",
        "def objective_function(x):\n",
        "    return np.sum(x**2)\n",
        "\n",
        "class GreyWolfOptimizer:\n",
        "    def __init__(self, objective_function, n_wolves, n_variables, max_iter, lb, ub):\n",
        "        self.obj_func = objective_function  # Objective function\n",
        "        self.n_wolves = n_wolves  # Number of wolves\n",
        "        self.n_variables = n_variables  # Number of variables in the problem\n",
        "        self.max_iter = max_iter  # Maximum number of iterations\n",
        "        self.lb = lb  # Lower bound for the search space\n",
        "        self.ub = ub  # Upper bound for the search space\n",
        "\n",
        "        self.wolves = np.random.uniform(self.lb, self.ub, (self.n_wolves, self.n_variables))\n",
        "\n",
        "        self.alpha = np.zeros(self.n_variables)\n",
        "        self.beta = np.zeros(self.n_variables)\n",
        "        self.delta = np.zeros(self.n_variables)\n",
        "        self.alpha_score = float(\"inf\")\n",
        "        self.beta_score = float(\"inf\")\n",
        "        self.delta_score = float(\"inf\")\n",
        "\n",
        "    def update_wolves(self):\n",
        "        fitness = np.apply_along_axis(self.obj_func, 1, self.wolves)\n",
        "\n",
        "        sorted_indices = np.argsort(fitness)\n",
        "        self.wolves = self.wolves[sorted_indices]\n",
        "        fitness = fitness[sorted_indices]\n",
        "\n",
        "        # Update alpha, beta, and delta wolves\n",
        "        self.alpha = self.wolves[0]\n",
        "        self.beta = self.wolves[1]\n",
        "        self.delta = self.wolves[2]\n",
        "        self.alpha_score = fitness[0]\n",
        "        self.beta_score = fitness[1]\n",
        "        self.delta_score = fitness[2]\n",
        "\n",
        "    def optimize(self):\n",
        "        for t in range(self.max_iter):\n",
        "            A = 2 * np.random.random((self.n_wolves, self.n_variables)) - 1  # Random values for exploration\n",
        "            C = 2 * np.random.random((self.n_wolves, self.n_variables))  # Random values for exploitation\n",
        "            for i in range(self.n_wolves):\n",
        "                D_alpha = np.abs(C[i] * self.alpha - self.wolves[i])  # Distance to alpha wolf\n",
        "                D_beta = np.abs(C[i] * self.beta - self.wolves[i])  # Distance to beta wolf\n",
        "                D_delta = np.abs(C[i] * self.delta - self.wolves[i])  # Distance to delta wolf\n",
        "\n",
        "                self.wolves[i] = self.alpha - A[i] * D_alpha\n",
        "\n",
        "                self.wolves[i] = np.clip(self.wolves[i], self.lb, self.ub)\n",
        "\n",
        "            self.update_wolves()\n",
        "\n",
        "            print(f\"Iteration {t+1}/{self.max_iter}, Best Score: {self.alpha_score}\")\n",
        "\n",
        "        return self.alpha, self.alpha_score  # Return the best solution found\n",
        "\n",
        "n_wolves = 30  # Number of wolves\n",
        "n_variables = 5  # Number of decision variables\n",
        "max_iter = 100  # Maximum number of iterations\n",
        "lb = -10  # Lower bound of the search space\n",
        "ub = 10  # Upper bound of the search space\n",
        "\n",
        "gwo = GreyWolfOptimizer(objective_function, n_wolves, n_variables, max_iter, lb, ub)\n",
        "best_solution, best_score = gwo.optimize()\n",
        "print(\"Best Solution Found:\", best_solution)\n",
        "print(\"Best Score:\", best_score)\n"
      ]
    }
  ]
}