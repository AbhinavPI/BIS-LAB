{
  "nbformat": 4,
  "nbformat_minor": 0,
  "metadata": {
    "colab": {
      "provenance": []
    },
    "kernelspec": {
      "name": "python3",
      "display_name": "Python 3"
    },
    "language_info": {
      "name": "python"
    }
  },
  "cells": [
    {
      "cell_type": "code",
      "execution_count": null,
      "metadata": {
        "id": "_AJkRfumJE31"
      },
      "outputs": [],
      "source": [
        "import numpy as np\n",
        "from multiprocessing import Pool\n",
        "def update_cell(cell_index, grid, size):\n",
        "    x, y = cell_index\n",
        "    neighbors = [\n",
        "        ((x-1) % size, y), ((x+1) % size, y),\n",
        "        (x, (y-1) % size), (x, (y+1) % size)\n",
        "    ]\n",
        "    new_state = sum(grid[n[0], n[1]] for n in neighbors) % 2  # example: majority rule\n",
        "    return (x, y, new_state)\n",
        "def parallel_update(grid, size, num_iterations):\n",
        "    pool = Pool(processes=4)\n",
        "    for iteration in range(num_iterations):\n",
        "        print(f\"Iteration {iteration + 1}:\")\n",
        "        indices = [(x, y) for x in range(size) for y in range(size)]\n",
        "        result = pool.starmap(update_cell, [(i, grid, size) for i in indices])\n",
        "\n",
        "        for x, y, new_state in result:\n",
        "            grid[x, y] = new_state\n",
        "        print(grid)\n",
        "    return grid\n",
        "grid_size = 10\n",
        "grid = np.random.randint(2, size=(grid_size, grid_size))\n",
        "print(\"Initial state:\")\n",
        "print(grid)\n",
        "num_iterations = 2\n",
        "updated_grid = parallel_update(grid, grid_size, num_iterations)\n"
      ]
    }
  ]
}